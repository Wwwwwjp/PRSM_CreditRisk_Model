{
 "cells": [
  {
   "cell_type": "markdown",
   "id": "e4180f27",
   "metadata": {},
   "source": [
    "# **Executive Summary**  \n",
    "**Jiapeng Wang**  \n",
    "\n",
    "Our analysis identifies key factors driving substantial variation in PRSM scores, which measure borrower credit risk. The most influential predictors include **loan amount, business structure, FICO score, financial stress, gender ownership, and months in business**.  \n",
    "\n",
    "### **Key Findings**  \n",
    "- **Loan Amount:** Higher loan amounts are associated with higher PRSM scores, indicating stronger cash flow.  \n",
    "- **Woman-Owned Businesses:** These businesses tend to have higher PRSM scores, possibly due to financial management or industry-specific factors.  \n",
    "- **Business Structure:** LLCs and partnerships score higher than sole proprietorships and corporations.  \n",
    "- **FICO Score:** Higher credit scores (\"Excellent\" or \"Very Good\") correspond to better repayment performance.  \n",
    "- **Financial Stress:** A higher garnishment-to-volume ratio is linked to lower creditworthiness.  \n",
    "- **Months in Business:** Longer operational history reduces default risk.  \n",
    "\n",
    "### **Baseline Borrower & PRSM Predictions**  \n",
    "A representative borrower was selected based on median or average values from the training data:  \n",
    "- **Baseline Characteristics:** FICO: 700, Loan Amount: 200K, Volume: 140K, Stress: 0.20, Delinquent Accounts: 4, Credit Lines: 10, Woman-Owned: Yes, Business Structure: LLC, NAICS: 445291, Months in Business: 18  \n",
    "- **Predicted PRSM:** **0.92** (95% Prediction Interval: **0.60 – 1.24**)  \n",
    "\n",
    "#### **Impact of Key Changes**  \n",
    "By adjusting individual features while keeping others constant, we observe:  \n",
    "- **FICO 850 → PRSM: 1.00 (0.68 – 1.32)** ; **FICO 450 → PRSM: 0.88 (0.56 – 1.19)**  \n",
    "- **Loan Amount 500K → PRSM: 0.96 (0.64 – 1.28)**  ; **Loan Amount 50K → PRSM: 0.86 (0.54 – 1.18)**  \n",
    "- **Stress 0.05 → PRSM: 0.80 (0.48 – 1.12)** ; **Stress 0.50 → PRSM: 1.12 (0.80 – 1.44)**  \n",
    "- **Non-Woman-Owned → PRSM: 0.71 (0.39 – 1.02)**  \n",
    "- **Business Structure: Corporation → PRSM: 0.69 (0.37 – 1.00)** ; **Business Structure: Sole Proprietorship → PRSM: 0.83 (0.52 – 1.15)** ; **Business Structure: Partnership → PRSM: 0.92 (0.60 – 1.23)**  \n",
    "- **Months in Business 30 → PRSM: 1.11 (0.79 – 1.43)** ; **Months in Business 3 → PRSM: 0.68 (0.36 – 1.00)**  \n",
    "\n",
    "### **Conclusion**  \n",
    "PRSM scores increase with stronger financial standing (higher FICO, lower stress, longer business history). Business structure and gender ownership also influence credit risk assessment. These insights provide a foundation for evaluating potential borrowers.  \n"
   ]
  },
  {
   "cell_type": "code",
   "execution_count": null,
   "id": "3aa1e049",
   "metadata": {},
   "outputs": [],
   "source": []
  }
 ],
 "metadata": {
  "kernelspec": {
   "display_name": "Python 3 (ipykernel)",
   "language": "python",
   "name": "python3"
  },
  "language_info": {
   "codemirror_mode": {
    "name": "ipython",
    "version": 3
   },
   "file_extension": ".py",
   "mimetype": "text/x-python",
   "name": "python",
   "nbconvert_exporter": "python",
   "pygments_lexer": "ipython3",
   "version": "3.10.9"
  }
 },
 "nbformat": 4,
 "nbformat_minor": 5
}
